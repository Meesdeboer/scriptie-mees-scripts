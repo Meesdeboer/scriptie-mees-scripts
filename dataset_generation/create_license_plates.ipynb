{
 "cells": [
  {
   "cell_type": "code",
   "execution_count": 1,
   "metadata": {},
   "outputs": [],
   "source": [
    "import os\n",
    "from PIL import Image, ImageDraw, ImageFont\n",
    "import random\n",
    "import numpy as np\n",
    "import cv2"
   ]
  },
  {
   "cell_type": "code",
   "execution_count": 2,
   "metadata": {},
   "outputs": [],
   "source": [
    "def generate_lp_number():\n",
    "    allowed_letters = 'BDFGHJKLNPRSTVWXZ'\n",
    "    allowed_numbers = '0123456789'\n",
    "\n",
    "    cases = [\n",
    "        # Case 1: 99-XX-XX\n",
    "        random.choice(allowed_numbers) + random.choice(allowed_numbers) + '-' + random.choice(allowed_letters) + random.choice(allowed_letters) + '-' + random.choice(allowed_letters) + random.choice(allowed_letters),\n",
    "\n",
    "        # Case 2: 99-XXX-9\n",
    "        random.choice(allowed_numbers) + random.choice(allowed_numbers) + '-' + random.choice(allowed_letters) + random.choice(allowed_letters) + random.choice(allowed_letters) + '-' + random.choice(allowed_numbers),\n",
    "\n",
    "        # Case 3: 9-XXX-99\n",
    "        random.choice(allowed_numbers) + '-' + random.choice(allowed_letters) + random.choice(allowed_letters) + random.choice(allowed_letters) + '-' + random.choice(allowed_numbers) + random.choice(allowed_numbers),\n",
    "\n",
    "        # Case 4: XX-999-X\n",
    "        random.choice(allowed_letters) + random.choice(allowed_letters) + '-' + random.choice(allowed_numbers) + random.choice(allowed_numbers) + random.choice(allowed_numbers) + '-' + random.choice(allowed_letters),\n",
    "\n",
    "        # Case 5: X-999-XX\n",
    "        random.choice(allowed_letters) + '-' + random.choice(allowed_numbers) + random.choice(allowed_numbers) + random.choice(allowed_numbers) + '-' + random.choice(allowed_letters) + random.choice(allowed_letters)\n",
    "    ]\n",
    "    return random.choice(cases)\n",
    "\n",
    "\n",
    "def generate_lp_image():\n",
    "    font = ImageFont.truetype('../lp_template_files/font_dutch_lp.ttf', 220)\n",
    "    lp_image = Image.open('../lp_template_files/template_dutch_lp.png')\n",
    "\n",
    "    draw = ImageDraw.Draw(lp_image)\n",
    "\n",
    "    license_plate = generate_lp_number()\n",
    "\n",
    "    # Calculate the width and height of the text\n",
    "    text_bbox = draw.textbbox((0, 0), license_plate, font)\n",
    "    text_width = text_bbox[2] - text_bbox[0]\n",
    "    text_height = text_bbox[3] - text_bbox[1]\n",
    "\n",
    "    # Calculate the position of the text\n",
    "    text_x = (lp_image.width - text_width) / 2 + 60\n",
    "    text_y = (lp_image.height - text_height) / 2 - 45\n",
    "\n",
    "    draw.text((text_x, text_y), license_plate, fill='black', font=font)\n",
    "\n",
    "    return lp_image"
   ]
  },
  {
   "cell_type": "code",
   "execution_count": 3,
   "metadata": {},
   "outputs": [],
   "source": [
    "for i in range(10000):\n",
    "    lp_image = generate_lp_image()\n",
    "    lp_image.save('../../images/lp/lp_' + str(i) + '.png')"
   ]
  }
 ],
 "metadata": {
  "kernelspec": {
   "display_name": "Python 3",
   "language": "python",
   "name": "python3"
  },
  "language_info": {
   "codemirror_mode": {
    "name": "ipython",
    "version": 3
   },
   "file_extension": ".py",
   "mimetype": "text/x-python",
   "name": "python",
   "nbconvert_exporter": "python",
   "pygments_lexer": "ipython3",
   "version": "3.11.5"
  }
 },
 "nbformat": 4,
 "nbformat_minor": 2
}
